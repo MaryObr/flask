{
  "cells": [
    {
      "cell_type": "markdown",
      "metadata": {
        "id": "r9NuOKwHpTlW"
      },
      "source": [
        "Дать выбрать персонажа из списка типичных или написать самому (лемматизировать)\n",
        "<br>\n",
        "Набрать корпус анекдотов по сайтам краулингом, искать по словоформам, мб векторы??, чекни, что повторов нет,  dataset записать\n",
        "\n",
        "Предпроцессинг: наверное, чекнуть на имена собственные (большие буквы не после !.?, м.б. чекнуть Наташей, можно ли это сделать быстрее, чем in,  выкинуть остальное)\n",
        "\n",
        "Дать выбирать (не)приличные, могу ли я автоматически так разметить? маш обуч??\n",
        "\n",
        "В презентации объяснить, почему именно такие сайты\n",
        "\n",
        "**Сайты:**\n",
        "<br>\n",
        "https://www.anekdot.ru/release/anekdot/day/2020-02-06/\n",
        "<br>\n",
        "https://anekdoty.ru/\n",
        "<br>\n",
        "https://archive.org/download/120_tysyach_anekdotov\n",
        "<br>\n",
        "file:///C:/Users/obrid/Downloads/Nikulin_Anekdoty_ot_Nikulina.pdf\n",
        "\n",
        "\n",
        "**Дизайн сайта**\n",
        "\n",
        "Две страницы:\n",
        "\n",
        "\n",
        "*   На первой город, откуда человек, его пол. Выбрать персонажа, которого ищем в анекдоте из списка ниже или напечатать самому. Выбрать, только ли приличные анекдоты. Ссылка - оглавление сверху, ссылки на источники анекдотов\n",
        "*   На второй выводим анекдот, статистику столбчатую по женщинам и мужчинам, каких персонажей выбирали (топ 6 персонажей типа)\n",
        "*   Прикольный дизайн!!\n",
        "\n",
        "<br>\n",
        "**Порядок действий:**\n",
        "\n",
        "\n",
        "1. Проверь, подошли ли сайты. Считай данные по ним и анекдоты из Никулина в датасеты (три разных), только те, где есть имена собственные или определённые слова\n",
        "# New section\n",
        "2.   Разметь где-то 800 на приличность, обучи машинку, проверь на 200, запусти разметку на всё\n",
        "3.   Сделай сайтик, сделай функции\n",
        "4. Загрузить всё на гитхаб, pythoneverywhere\n",
        "5. Сверься с критериями\n",
        "5. Ура, всё получилось)\n",
        "\n",
        "<br>\n",
        "\n",
        "**Презентация:**\n",
        "\n",
        "- объясни, почему именно такие источники для анекдотов\n",
        "- расскажи про этапы деланья, особенно про обучение модели\n",
        "- сделай прикольную презу\n",
        "- та да\n",
        "\n",
        "\n",
        "\n",
        "\n",
        "\n",
        "\n",
        "**Про кого анекдоты отдельно смотрим:**\n",
        "- Ленин\n",
        "\n",
        "- Сталин\n",
        "- Хрущев\n",
        "- Брежнев\n",
        "- Горбачев\n",
        "- Ельцин\n",
        "- Путин\n",
        "- Петр Первый\n",
        "- Медведев\n",
        "- Вовочка\n",
        "- Гаишник\n",
        "- Теща\n",
        "- Чукча\n",
        "- Новый русский\n",
        "- Блондинка\n",
        "- американец, француз, русский (другой набор национальностей)\n",
        "- грузин, хохол, горячий эстонский парень\n",
        "- Еврей\n",
        "- Штирлиц"
      ]
    },
    {
      "cell_type": "code",
      "execution_count": null,
      "metadata": {
        "id": "qrYv3ZxUmBot"
      },
      "outputs": [],
      "source": [
        "import spacy\n",
        "!python -m spacy download ru_core_news_sm\n",
        "nlp = spacy.load(\"ru_core_news_sm\")\n",
        "import ru_core_news_sm\n"
      ]
    },
    {
      "cell_type": "code",
      "execution_count": null,
      "metadata": {
        "id": "QMAnMTu8nt9W"
      },
      "outputs": [],
      "source": [
        "import sqlite3\n",
        "conn = sqlite3.connect('anekdotes.db')\n",
        "c = conn.cursor()"
      ]
    },
    {
      "cell_type": "code",
      "execution_count": null,
      "metadata": {
        "id": "w0LzCRnLmdAu"
      },
      "outputs": [],
      "source": [
        "def space(line):\n",
        "  global bad\n",
        "  bad = 0\n",
        "  doc = nlp(line)\n",
        "  for ent in doc.ents:\n",
        "    if (ent.label_ == \"PER\"):\n",
        "      bad += 1\n",
        "  for i in doc:\n",
        "    if i.lemma_ in [\"жена\", \"теща\", \"блондинка\", \"американец\", \"француз\", \"русский\", \"грузин\", \"хохол\", \"эстонец\", 'еврей', \"чукча\", \"одессит\" ]:\n",
        "      bad += 1\n",
        "  return"
      ]
    },
    {
      "cell_type": "code",
      "execution_count": null,
      "metadata": {
        "id": "LwyUlufCfqup"
      },
      "outputs": [],
      "source": [
        "def Nikulin():\n",
        "  global bad\n",
        "  drop = []\n",
        "  with open(\"Nikulin.txt\", \"r+\", encoding=\"utf-8\") as Nik:\n",
        "    #подумай, как совсем очистить от надписей про книгу\n",
        "    lines = [i for i in Nik.readlines() if (\"100 лучших книг всех времен: www.100bestbooks.ru\" not in i) or (\"Юрий Никулин «Анекдоты от Никулина»\" not in i)]\n",
        "    lines = \"\".join(lines)\n",
        "    aneks = lines.split(\"***\\n\")\n",
        "    id = 0\n",
        "    for i in aneks:\n",
        "      space(i)\n",
        "      if bad != 0:\n",
        "        c.execute(\"CREATE TABLE IF NOT EXISTS Nikulin (id_n integer, text_n text)\")\n",
        "        record = (id, i)\n",
        "        c.execute(\"INSERT INTO Nikulin VALUES (?, ?)\", record)\n",
        "        conn.commit()\n",
        "        id += 1"
      ]
    },
    {
      "cell_type": "code",
      "execution_count": null,
      "metadata": {
        "id": "DY7wNbhbhb45"
      },
      "outputs": [],
      "source": [
        "Nikulin()"
      ]
    },
    {
      "cell_type": "code",
      "execution_count": null,
      "metadata": {
        "colab": {
          "base_uri": "https://localhost:8080/"
        },
        "id": "D7HkyH3Di7oX",
        "outputId": "42ab995f-4e02-4372-bd34-a4ba66cbcca1"
      },
      "outputs": [
        {
          "output_type": "stream",
          "name": "stdout",
          "text": [
            "Collecting fake_useragent\n",
            "  Downloading fake_useragent-1.4.0-py3-none-any.whl (15 kB)\n",
            "Installing collected packages: fake_useragent\n",
            "Successfully installed fake_useragent-1.4.0\n"
          ]
        }
      ],
      "source": [
        "import requests\n",
        "!pip install fake_useragent\n",
        "from requests.exceptions import MissingSchema\n",
        "from bs4 import BeautifulSoup\n",
        "import time\n",
        "import random\n",
        "from fake_useragent import UserAgent\n",
        "ua = UserAgent()\n",
        "session = requests.session()"
      ]
    },
    {
      "cell_type": "code",
      "execution_count": null,
      "metadata": {
        "id": "n6W-nEk4jiCU"
      },
      "outputs": [],
      "source": [
        "from datetime import date, timedelta"
      ]
    },
    {
      "cell_type": "code",
      "execution_count": null,
      "metadata": {
        "id": "RBPVFSQyilDS"
      },
      "outputs": [],
      "source": [
        "def anek1():\n",
        "  def daterange(start_date, end_date):\n",
        "    for n in range(int((end_date - start_date).days)):\n",
        "        yield start_date + timedelta(n)\n",
        "\n",
        "  start_date = date(2020, 2, 1)\n",
        "  end_date = date(2020, 2, 8)\n",
        "  dates = []\n",
        "  textik = []\n",
        "  id = 0\n",
        "  for single_date in daterange(start_date, end_date):\n",
        "    dates.append(single_date.strftime(\"%Y-%m-%d\"))\n",
        "\n",
        "  for i in dates:\n",
        "    resp = session.get(f'https://www.anekdot.ru/release/anekdot/day/{i}/', headers={'User-Agent': ua.random})\n",
        "    time.sleep(random.uniform(1.1, 5.0))\n",
        "    page = resp.text\n",
        "    soup = BeautifulSoup(page, \"html.parser\")\n",
        "    textik.extend(soup.find_all(\"div\", {\"class\":\"text\"}))\n",
        "    for i in range(len(textik)):\n",
        "      try:\n",
        "        textik[i] = textik[i].text\n",
        "      except:\n",
        "        pass\n",
        "      space(textik[i])\n",
        "      if bad != 0:\n",
        "        c.execute(\"CREATE TABLE IF NOT EXISTS Anek1 (id_1 integer, text_1 text)\")\n",
        "        record = (id, textik[i])\n",
        "        c.execute(\"INSERT INTO Anek1 VALUES (?, ?)\", record)\n",
        "        conn.commit()\n",
        "        id += 1"
      ]
    },
    {
      "cell_type": "code",
      "execution_count": null,
      "metadata": {
        "id": "Ku0v1ZBRlyNR"
      },
      "outputs": [],
      "source": [
        "anek1()"
      ]
    },
    {
      "cell_type": "code",
      "execution_count": null,
      "metadata": {
        "id": "l12JrnH3ibm_"
      },
      "outputs": [],
      "source": [
        "def anek_2():\n",
        "  namings = [\"pro-evreev\", 'pro-shtirlica', 'pro-vovochku', 'pro-zhenu', 'pro-armyan', 'pro-gruzinov']\n",
        "  textok = []\n",
        "  id = 0\n",
        "  for i in namings:\n",
        "    for j in range (2, 7):\n",
        "      resp = session.get(f'https://anekdoty.ru/{i}/{j}/', headers={'User-Agent': ua.random})\n",
        "      time.sleep(random.uniform(1.1, 5.0))\n",
        "      page = resp.text\n",
        "      soup = BeautifulSoup(page, \"html.parser\")\n",
        "      textok.extend(soup.find_all(\"div\", {\"class\":\"holder-body\"}))\n",
        "  for i in range(1, 4):\n",
        "      if i == 1:\n",
        "        resp = session.get(f'https://anekdoty.ru/pro-gitlera/', headers={'User-Agent': ua.random})\n",
        "      else:\n",
        "        resp = session.get(f'https://anekdoty.ru/pro-gitlera/{i}/', headers={'User-Agent': ua.random})\n",
        "      time.sleep(random.uniform(1.1, 5.0))\n",
        "      page = resp.text\n",
        "      soup = BeautifulSoup(page, \"html.parser\")\n",
        "      textok.extend(soup.find_all(\"div\", {\"class\":\"holder-body\"}))\n",
        "      for i in range(len(textok)):\n",
        "        try:\n",
        "          textok[i] = textok[i].text\n",
        "        except:\n",
        "          pass\n",
        "        space(textok[i])\n",
        "        if bad != 0:\n",
        "          c.execute(\"CREATE TABLE IF NOT EXISTS Anek2 (id_2 integer, text_2 text)\")\n",
        "          record = (id, textok[i])\n",
        "          c.execute(\"INSERT INTO Anek2 VALUES (?, ?)\", record)\n",
        "          conn.commit()\n",
        "          id += 1\n",
        "\n",
        "\n"
      ]
    },
    {
      "cell_type": "code",
      "execution_count": null,
      "metadata": {
        "colab": {
          "background_save": true
        },
        "id": "Mne8aqhfoeZw"
      },
      "outputs": [],
      "source": [
        "anek_2()"
      ]
    },
    {
      "cell_type": "code",
      "execution_count": null,
      "metadata": {
        "id": "HZd7X_4OLkZo"
      },
      "outputs": [],
      "source": [
        "import pandas as pd"
      ]
    },
    {
      "cell_type": "code",
      "execution_count": null,
      "metadata": {
        "id": "W5Hn87q8KWQD"
      },
      "outputs": [],
      "source": [
        "def deti():\n",
        "  global de\n",
        "  te = []\n",
        "  for j in range (2, 12):\n",
        "      resp = session.get(f'https://anekdoty.ru/detskie/{j}/', headers={'User-Agent': ua.random})\n",
        "      time.sleep(random.uniform(1.1, 5.0))\n",
        "      page = resp.text\n",
        "      soup = BeautifulSoup(page, \"html.parser\")\n",
        "      te.extend(soup.find_all(\"div\", {\"class\":\"holder-body\"}))\n",
        "  for i in range(len(te)):\n",
        "        try:\n",
        "          te[i] = te[i].text\n",
        "        except:\n",
        "          pass\n",
        "  pril = []\n",
        "  for i in range(len(te)):\n",
        "    pril.append(0)\n",
        "  de = pd.DataFrame({\"deti\": te, \"pril\": pril})\n",
        "  return"
      ]
    },
    {
      "cell_type": "code",
      "execution_count": null,
      "metadata": {
        "id": "qWS7VdMvMpmP"
      },
      "outputs": [],
      "source": [
        "deti()"
      ]
    },
    {
      "cell_type": "code",
      "source": [
        "def child():\n",
        "  global ch\n",
        "  text = \"\"\n",
        "  pril = []\n",
        "  resp = session.get(f'https://proza.ru/2013/01/20/18', headers={'User-Agent': ua.random})\n",
        "  page = resp.text\n",
        "  soup = BeautifulSoup(page, \"html.parser\")\n",
        "  text = soup.find(\"div\", {\"class\":\"text\"})\n",
        "  te = str(text).replace(\"\\n\",\" \").replace(\"<br/>\",\" \").split(\"***\")\n",
        "  for i in range(200):\n",
        "    pril.append(0)\n",
        "  ch = pd.DataFrame({\"deti\": te[3:203], \"pril\": pril})"
      ],
      "metadata": {
        "id": "d9Vt-nSpquJm"
      },
      "execution_count": null,
      "outputs": []
    },
    {
      "cell_type": "code",
      "source": [
        "child()"
      ],
      "metadata": {
        "id": "_TlgZQ1Yru24"
      },
      "execution_count": null,
      "outputs": []
    },
    {
      "cell_type": "code",
      "source": [
        "ch.head(5)"
      ],
      "metadata": {
        "colab": {
          "base_uri": "https://localhost:8080/",
          "height": 206
        },
        "id": "7uDTGK6HsgvY",
        "outputId": "a92916da-c048-4fd9-c6bd-968ba0d19867"
      },
      "execution_count": null,
      "outputs": [
        {
          "output_type": "execute_result",
          "data": {
            "text/plain": [
              "                                                deti  pril\n",
              "0     Доктор:   - Вы должны принять эту таблетку ...     0\n",
              "1    - Вы увольняете ценных сотрудников, кто же о...     0\n",
              "2    Две подруги:   - Эдик мне вчера сказал, что,...     0\n",
              "3    Иногда мои случайные знакомые удивляются том...     0\n",
              "4    Один мэр города загадал на Новый Год потерят...     0"
            ],
            "text/html": [
              "\n",
              "  <div id=\"df-46928447-3c22-432b-868c-f9458a236c17\" class=\"colab-df-container\">\n",
              "    <div>\n",
              "<style scoped>\n",
              "    .dataframe tbody tr th:only-of-type {\n",
              "        vertical-align: middle;\n",
              "    }\n",
              "\n",
              "    .dataframe tbody tr th {\n",
              "        vertical-align: top;\n",
              "    }\n",
              "\n",
              "    .dataframe thead th {\n",
              "        text-align: right;\n",
              "    }\n",
              "</style>\n",
              "<table border=\"1\" class=\"dataframe\">\n",
              "  <thead>\n",
              "    <tr style=\"text-align: right;\">\n",
              "      <th></th>\n",
              "      <th>deti</th>\n",
              "      <th>pril</th>\n",
              "    </tr>\n",
              "  </thead>\n",
              "  <tbody>\n",
              "    <tr>\n",
              "      <th>0</th>\n",
              "      <td>Доктор:   - Вы должны принять эту таблетку ...</td>\n",
              "      <td>0</td>\n",
              "    </tr>\n",
              "    <tr>\n",
              "      <th>1</th>\n",
              "      <td>- Вы увольняете ценных сотрудников, кто же о...</td>\n",
              "      <td>0</td>\n",
              "    </tr>\n",
              "    <tr>\n",
              "      <th>2</th>\n",
              "      <td>Две подруги:   - Эдик мне вчера сказал, что,...</td>\n",
              "      <td>0</td>\n",
              "    </tr>\n",
              "    <tr>\n",
              "      <th>3</th>\n",
              "      <td>Иногда мои случайные знакомые удивляются том...</td>\n",
              "      <td>0</td>\n",
              "    </tr>\n",
              "    <tr>\n",
              "      <th>4</th>\n",
              "      <td>Один мэр города загадал на Новый Год потерят...</td>\n",
              "      <td>0</td>\n",
              "    </tr>\n",
              "  </tbody>\n",
              "</table>\n",
              "</div>\n",
              "    <div class=\"colab-df-buttons\">\n",
              "\n",
              "  <div class=\"colab-df-container\">\n",
              "    <button class=\"colab-df-convert\" onclick=\"convertToInteractive('df-46928447-3c22-432b-868c-f9458a236c17')\"\n",
              "            title=\"Convert this dataframe to an interactive table.\"\n",
              "            style=\"display:none;\">\n",
              "\n",
              "  <svg xmlns=\"http://www.w3.org/2000/svg\" height=\"24px\" viewBox=\"0 -960 960 960\">\n",
              "    <path d=\"M120-120v-720h720v720H120Zm60-500h600v-160H180v160Zm220 220h160v-160H400v160Zm0 220h160v-160H400v160ZM180-400h160v-160H180v160Zm440 0h160v-160H620v160ZM180-180h160v-160H180v160Zm440 0h160v-160H620v160Z\"/>\n",
              "  </svg>\n",
              "    </button>\n",
              "\n",
              "  <style>\n",
              "    .colab-df-container {\n",
              "      display:flex;\n",
              "      gap: 12px;\n",
              "    }\n",
              "\n",
              "    .colab-df-convert {\n",
              "      background-color: #E8F0FE;\n",
              "      border: none;\n",
              "      border-radius: 50%;\n",
              "      cursor: pointer;\n",
              "      display: none;\n",
              "      fill: #1967D2;\n",
              "      height: 32px;\n",
              "      padding: 0 0 0 0;\n",
              "      width: 32px;\n",
              "    }\n",
              "\n",
              "    .colab-df-convert:hover {\n",
              "      background-color: #E2EBFA;\n",
              "      box-shadow: 0px 1px 2px rgba(60, 64, 67, 0.3), 0px 1px 3px 1px rgba(60, 64, 67, 0.15);\n",
              "      fill: #174EA6;\n",
              "    }\n",
              "\n",
              "    .colab-df-buttons div {\n",
              "      margin-bottom: 4px;\n",
              "    }\n",
              "\n",
              "    [theme=dark] .colab-df-convert {\n",
              "      background-color: #3B4455;\n",
              "      fill: #D2E3FC;\n",
              "    }\n",
              "\n",
              "    [theme=dark] .colab-df-convert:hover {\n",
              "      background-color: #434B5C;\n",
              "      box-shadow: 0px 1px 3px 1px rgba(0, 0, 0, 0.15);\n",
              "      filter: drop-shadow(0px 1px 2px rgba(0, 0, 0, 0.3));\n",
              "      fill: #FFFFFF;\n",
              "    }\n",
              "  </style>\n",
              "\n",
              "    <script>\n",
              "      const buttonEl =\n",
              "        document.querySelector('#df-46928447-3c22-432b-868c-f9458a236c17 button.colab-df-convert');\n",
              "      buttonEl.style.display =\n",
              "        google.colab.kernel.accessAllowed ? 'block' : 'none';\n",
              "\n",
              "      async function convertToInteractive(key) {\n",
              "        const element = document.querySelector('#df-46928447-3c22-432b-868c-f9458a236c17');\n",
              "        const dataTable =\n",
              "          await google.colab.kernel.invokeFunction('convertToInteractive',\n",
              "                                                    [key], {});\n",
              "        if (!dataTable) return;\n",
              "\n",
              "        const docLinkHtml = 'Like what you see? Visit the ' +\n",
              "          '<a target=\"_blank\" href=https://colab.research.google.com/notebooks/data_table.ipynb>data table notebook</a>'\n",
              "          + ' to learn more about interactive tables.';\n",
              "        element.innerHTML = '';\n",
              "        dataTable['output_type'] = 'display_data';\n",
              "        await google.colab.output.renderOutput(dataTable, element);\n",
              "        const docLink = document.createElement('div');\n",
              "        docLink.innerHTML = docLinkHtml;\n",
              "        element.appendChild(docLink);\n",
              "      }\n",
              "    </script>\n",
              "  </div>\n",
              "\n",
              "\n",
              "<div id=\"df-2d1586d8-e71f-45e7-974c-93298d946cf8\">\n",
              "  <button class=\"colab-df-quickchart\" onclick=\"quickchart('df-2d1586d8-e71f-45e7-974c-93298d946cf8')\"\n",
              "            title=\"Suggest charts\"\n",
              "            style=\"display:none;\">\n",
              "\n",
              "<svg xmlns=\"http://www.w3.org/2000/svg\" height=\"24px\"viewBox=\"0 0 24 24\"\n",
              "     width=\"24px\">\n",
              "    <g>\n",
              "        <path d=\"M19 3H5c-1.1 0-2 .9-2 2v14c0 1.1.9 2 2 2h14c1.1 0 2-.9 2-2V5c0-1.1-.9-2-2-2zM9 17H7v-7h2v7zm4 0h-2V7h2v10zm4 0h-2v-4h2v4z\"/>\n",
              "    </g>\n",
              "</svg>\n",
              "  </button>\n",
              "\n",
              "<style>\n",
              "  .colab-df-quickchart {\n",
              "      --bg-color: #E8F0FE;\n",
              "      --fill-color: #1967D2;\n",
              "      --hover-bg-color: #E2EBFA;\n",
              "      --hover-fill-color: #174EA6;\n",
              "      --disabled-fill-color: #AAA;\n",
              "      --disabled-bg-color: #DDD;\n",
              "  }\n",
              "\n",
              "  [theme=dark] .colab-df-quickchart {\n",
              "      --bg-color: #3B4455;\n",
              "      --fill-color: #D2E3FC;\n",
              "      --hover-bg-color: #434B5C;\n",
              "      --hover-fill-color: #FFFFFF;\n",
              "      --disabled-bg-color: #3B4455;\n",
              "      --disabled-fill-color: #666;\n",
              "  }\n",
              "\n",
              "  .colab-df-quickchart {\n",
              "    background-color: var(--bg-color);\n",
              "    border: none;\n",
              "    border-radius: 50%;\n",
              "    cursor: pointer;\n",
              "    display: none;\n",
              "    fill: var(--fill-color);\n",
              "    height: 32px;\n",
              "    padding: 0;\n",
              "    width: 32px;\n",
              "  }\n",
              "\n",
              "  .colab-df-quickchart:hover {\n",
              "    background-color: var(--hover-bg-color);\n",
              "    box-shadow: 0 1px 2px rgba(60, 64, 67, 0.3), 0 1px 3px 1px rgba(60, 64, 67, 0.15);\n",
              "    fill: var(--button-hover-fill-color);\n",
              "  }\n",
              "\n",
              "  .colab-df-quickchart-complete:disabled,\n",
              "  .colab-df-quickchart-complete:disabled:hover {\n",
              "    background-color: var(--disabled-bg-color);\n",
              "    fill: var(--disabled-fill-color);\n",
              "    box-shadow: none;\n",
              "  }\n",
              "\n",
              "  .colab-df-spinner {\n",
              "    border: 2px solid var(--fill-color);\n",
              "    border-color: transparent;\n",
              "    border-bottom-color: var(--fill-color);\n",
              "    animation:\n",
              "      spin 1s steps(1) infinite;\n",
              "  }\n",
              "\n",
              "  @keyframes spin {\n",
              "    0% {\n",
              "      border-color: transparent;\n",
              "      border-bottom-color: var(--fill-color);\n",
              "      border-left-color: var(--fill-color);\n",
              "    }\n",
              "    20% {\n",
              "      border-color: transparent;\n",
              "      border-left-color: var(--fill-color);\n",
              "      border-top-color: var(--fill-color);\n",
              "    }\n",
              "    30% {\n",
              "      border-color: transparent;\n",
              "      border-left-color: var(--fill-color);\n",
              "      border-top-color: var(--fill-color);\n",
              "      border-right-color: var(--fill-color);\n",
              "    }\n",
              "    40% {\n",
              "      border-color: transparent;\n",
              "      border-right-color: var(--fill-color);\n",
              "      border-top-color: var(--fill-color);\n",
              "    }\n",
              "    60% {\n",
              "      border-color: transparent;\n",
              "      border-right-color: var(--fill-color);\n",
              "    }\n",
              "    80% {\n",
              "      border-color: transparent;\n",
              "      border-right-color: var(--fill-color);\n",
              "      border-bottom-color: var(--fill-color);\n",
              "    }\n",
              "    90% {\n",
              "      border-color: transparent;\n",
              "      border-bottom-color: var(--fill-color);\n",
              "    }\n",
              "  }\n",
              "</style>\n",
              "\n",
              "  <script>\n",
              "    async function quickchart(key) {\n",
              "      const quickchartButtonEl =\n",
              "        document.querySelector('#' + key + ' button');\n",
              "      quickchartButtonEl.disabled = true;  // To prevent multiple clicks.\n",
              "      quickchartButtonEl.classList.add('colab-df-spinner');\n",
              "      try {\n",
              "        const charts = await google.colab.kernel.invokeFunction(\n",
              "            'suggestCharts', [key], {});\n",
              "      } catch (error) {\n",
              "        console.error('Error during call to suggestCharts:', error);\n",
              "      }\n",
              "      quickchartButtonEl.classList.remove('colab-df-spinner');\n",
              "      quickchartButtonEl.classList.add('colab-df-quickchart-complete');\n",
              "    }\n",
              "    (() => {\n",
              "      let quickchartButtonEl =\n",
              "        document.querySelector('#df-2d1586d8-e71f-45e7-974c-93298d946cf8 button');\n",
              "      quickchartButtonEl.style.display =\n",
              "        google.colab.kernel.accessAllowed ? 'block' : 'none';\n",
              "    })();\n",
              "  </script>\n",
              "</div>\n",
              "    </div>\n",
              "  </div>\n"
            ],
            "application/vnd.google.colaboratory.intrinsic+json": {
              "type": "dataframe",
              "variable_name": "ch",
              "summary": "{\n  \"name\": \"ch\",\n  \"rows\": 200,\n  \"fields\": [\n    {\n      \"column\": \"deti\",\n      \"properties\": {\n        \"dtype\": \"string\",\n        \"num_unique_values\": 199,\n        \"samples\": [\n          \"  \\u0420\\u043e\\u0441\\u0441\\u0438\\u044f \\u2013 \\u044d\\u0442\\u043e \\u0432\\u0441\\u0435\\u0433\\u0434\\u0430 \\u0432\\u0435\\u043b\\u0438\\u043a\\u043e\\u0435 \\u043f\\u0440\\u043e\\u0448\\u043b\\u043e\\u0435, \\u043f\\u0440\\u0435\\u043a\\u0440\\u0430\\u0441\\u043d\\u043e\\u0435 \\u0431\\u0443\\u0434\\u0443\\u0449\\u0435\\u0435 \\u0438 \\u0431\\u0435\\u0441\\u043f\\u043e\\u0449\\u0430\\u0434\\u043d\\u043e\\u0435 \\u043d\\u0430\\u0441\\u0442\\u043e\\u044f\\u0449\\u0435\\u0435.  \",\n          \"  \\u041d\\u0435 \\u0441\\u0442\\u043e\\u0438\\u0442 \\u043d\\u0430\\u0447\\u0438\\u043d\\u0430\\u0442\\u044c \\u0431\\u044b\\u0442\\u044c \\u0441\\u0430\\u043c\\u0438 \\u0441\\u043e\\u0431\\u043e\\u0439 \\u0434\\u043e \\u0442\\u043e\\u0433\\u043e, \\u043a\\u0430\\u043a \\u043f\\u043e\\u043d\\u044f\\u043b, \\u043a\\u0442\\u043e \\u0442\\u044b \\u043d\\u0430 \\u0441\\u0430\\u043c\\u043e\\u043c \\u0434\\u0435\\u043b\\u0435.  \",\n          \"  \\u041c\\u0430\\u043b\\u044c\\u0447\\u0438\\u043a \\u0443\\u0436\\u0435 \\u0432\\u0442\\u043e\\u0440\\u043e\\u0439 \\u0447\\u0430\\u0441 \\u0441\\u0438\\u0434\\u0435\\u043b \\u043d\\u0430 \\u0434\\u0435\\u0440\\u0435\\u0432\\u0435 \\u0432 \\u043f\\u0430\\u0440\\u043a\\u0435 \\u0438 \\u043f\\u043b\\u0430\\u043a\\u0430\\u043b:  - \\u0421\\u043d\\u0438\\u043c\\u0438\\u0442\\u0435 \\u043c\\u0435\\u043d\\u044f, \\u0441\\u043d\\u0438\\u043c\\u0438\\u0442\\u0435 \\u043c\\u0435\\u043d\\u044f...  \\u0418 \\u0432\\u0441\\u0435 \\u0434\\u043e\\u0431\\u0440\\u044b\\u0435 \\u043b\\u044e\\u0434\\u0438 \\u0441\\u0440\\u0430\\u0437\\u0443 \\u0436\\u0435 \\u0434\\u043e\\u0441\\u0442\\u0430\\u0432\\u0430\\u043b\\u0438 \\u0441\\u0432\\u043e\\u0438 \\u0441\\u043c\\u0430\\u0440\\u0442\\u0444\\u043e\\u043d\\u044b \\u0438 \\u0441\\u043d\\u0438\\u043c\\u0430\\u043b\\u0438 \\u0435\\u0433\\u043e.   \"\n        ],\n        \"semantic_type\": \"\",\n        \"description\": \"\"\n      }\n    },\n    {\n      \"column\": \"pril\",\n      \"properties\": {\n        \"dtype\": \"number\",\n        \"std\": 0,\n        \"min\": 0,\n        \"max\": 0,\n        \"num_unique_values\": 1,\n        \"samples\": [\n          0\n        ],\n        \"semantic_type\": \"\",\n        \"description\": \"\"\n      }\n    }\n  ]\n}"
            }
          },
          "metadata": {},
          "execution_count": 154
        }
      ]
    },
    {
      "cell_type": "code",
      "execution_count": null,
      "metadata": {
        "id": "Ma4DtiZPOKus"
      },
      "outputs": [],
      "source": [
        "def ervax():\n",
        "  global er\n",
        "  te = []\n",
        "  for j in range (1, 5):\n",
        "      resp = session.get(f'https://www.anekdot.ru/tags/%D0%BF%D0%BE%D1%88%D0%BB%D1%8B%D0%B5/{j}', headers={'User-Agent': ua.random})\n",
        "      time.sleep(random.uniform(1.1, 5.0))\n",
        "      page = resp.text\n",
        "      soup = BeautifulSoup(page, \"html.parser\")\n",
        "      te.extend(soup.find_all(\"div\", {\"class\":\"text\"}))\n",
        "  for i in range(len(te)):\n",
        "        try:\n",
        "          te[i] = te[i].text\n",
        "        except:\n",
        "          pass\n",
        "  pril = []\n",
        "  for i in range(len(te)):\n",
        "    pril.append(1)\n",
        "  er = pd.DataFrame({\"ervax\": te, \"pril\": pril})\n",
        "  return"
      ]
    },
    {
      "cell_type": "code",
      "execution_count": null,
      "metadata": {
        "id": "za_kTEcGPh2m"
      },
      "outputs": [],
      "source": [
        "ervax()"
      ]
    },
    {
      "cell_type": "code",
      "execution_count": null,
      "metadata": {
        "id": "UXOM_mWVQSMu"
      },
      "outputs": [],
      "source": [
        "def adult():\n",
        "  global ad\n",
        "  query = \"\"\"\n",
        "  SELECT text_1, Pril\n",
        "  FROM Anek1\n",
        "  LIMIT 200\n",
        "  \"\"\"\n",
        "  ad = pd.read_sql_query(query, con=conn)\n",
        "  return"
      ]
    },
    {
      "cell_type": "code",
      "source": [
        "adult()"
      ],
      "metadata": {
        "id": "JxCBbxjZVJ9O"
      },
      "execution_count": null,
      "outputs": []
    },
    {
      "cell_type": "code",
      "execution_count": null,
      "metadata": {
        "id": "baznwcE8AUZi"
      },
      "outputs": [],
      "source": [
        "from sklearn.model_selection import train_test_split\n",
        "from sklearn.feature_extraction.text import CountVectorizer"
      ]
    },
    {
      "cell_type": "code",
      "execution_count": null,
      "metadata": {
        "id": "M5cepIgfAltv"
      },
      "outputs": [],
      "source": [
        "d = list(ch[\"deti\"].values)\n",
        "e = list(er[\"ervax\"].values)\n",
        "a = list(ad[\"text_1\"].values)\n",
        "X = d + e + a\n",
        "ed = list(ch[\"pril\"].values)\n",
        "r = list(er[\"pril\"].values)\n",
        "da = list(ad[\"Pril\"].values)\n",
        "y = ed + r + da"
      ]
    },
    {
      "cell_type": "code",
      "source": [
        "X_train, X_test, y_train, y_test = train_test_split(X, y, test_size=0.2, random_state=42)\n",
        "vectorizer = CountVectorizer()\n",
        "X_train_transformed = vectorizer.fit_transform(X_train)\n",
        "X_test_transformed = vectorizer.transform(X_test)"
      ],
      "metadata": {
        "id": "qAGvIL6XRDeE"
      },
      "execution_count": null,
      "outputs": []
    },
    {
      "cell_type": "code",
      "source": [
        "from sklearn.tree import DecisionTreeClassifier"
      ],
      "metadata": {
        "id": "QYAsYXY6v1ql"
      },
      "execution_count": null,
      "outputs": []
    },
    {
      "cell_type": "code",
      "source": [
        "tree = DecisionTreeClassifier(\n",
        "    max_depth=None,\n",
        "    min_samples_split=4,\n",
        "    min_samples_leaf=1,\n",
        ")"
      ],
      "metadata": {
        "id": "GQUHjeWEv2q4"
      },
      "execution_count": null,
      "outputs": []
    },
    {
      "cell_type": "code",
      "source": [
        "tree.fit(X_train_transformed, y_train)\n",
        "y_pred = tree.predict(X_test_transformed)\n",
        "print(accuracy_score(y_test, y_pred), recall_score(y_test, y_pred, pos_label=1),\n",
        "      precision_score(y_test, y_pred, pos_label=1))"
      ],
      "metadata": {
        "colab": {
          "base_uri": "https://localhost:8080/"
        },
        "id": "aYsCXIdmv9b7",
        "outputId": "a6ba7691-ef20-401a-ec3a-17fd0d7135eb"
      },
      "execution_count": null,
      "outputs": [
        {
          "output_type": "stream",
          "name": "stdout",
          "text": [
            "0.725 0.38461538461538464 0.625\n"
          ]
        }
      ]
    },
    {
      "cell_type": "code",
      "source": [
        "from sklearn.metrics import accuracy_score, recall_score, precision_score"
      ],
      "metadata": {
        "id": "3Gv3WuzKTR9M"
      },
      "execution_count": null,
      "outputs": []
    },
    {
      "cell_type": "code",
      "source": [
        "print(accuracy_score(y_test, y_pred))\n",
        "print(recall_score(y_test, y_pred, pos_label=1))\n",
        "print(precision_score(y_test, y_pred, pos_label=1))"
      ],
      "metadata": {
        "colab": {
          "base_uri": "https://localhost:8080/"
        },
        "id": "fJynl7OrTkmH",
        "outputId": "4a2ae568-3399-4a92-fa51-de45f109c73b"
      },
      "execution_count": null,
      "outputs": [
        {
          "output_type": "stream",
          "name": "stdout",
          "text": [
            "0.625\n",
            "0.1282051282051282\n",
            "0.3125\n"
          ]
        }
      ]
    },
    {
      "cell_type": "code",
      "source": [
        "def cenz1():\n",
        "  query = \"\"\"\n",
        "  SELECT text\n",
        "  FROM Anek11\n",
        "  \"\"\"\n",
        "  df = pd.read_sql_query(query, con=conn)\n",
        "  c1 = list(df['text'].values)\n",
        "  c1_t = vectorizer.transform(c1)\n",
        "  y1 = classifier.predict(c1_t)\n",
        "  for i in range(len(y1)):\n",
        "    c.execute(\"UPDATE Anek11 SET pril = ? WHERE id_11 = ?\", (int(y1[i]), i))\n",
        "    conn.commit()\n"
      ],
      "metadata": {
        "id": "L2soW9mMWq6T"
      },
      "execution_count": null,
      "outputs": []
    },
    {
      "cell_type": "code",
      "source": [
        "cenz1()"
      ],
      "metadata": {
        "id": "Xdya-ftPZ4Jm"
      },
      "execution_count": null,
      "outputs": []
    },
    {
      "cell_type": "code",
      "source": [
        "def cenz2():\n",
        "  query = \"\"\"\n",
        "  SELECT text_22\n",
        "  FROM Anek22\n",
        "  \"\"\"\n",
        "  df = pd.read_sql_query(query, con=conn)\n",
        "  c1 = list(df['text_22'].values)\n",
        "  c1_t = vectorizer.transform(c1)\n",
        "  y1 = classifier.predict(c1_t)\n",
        "  for i in range(len(y1)):\n",
        "    c.execute(\"UPDATE Anek22 SET pril_22 = ? WHERE id_22 = ?\", (int(y1[i]), i))\n",
        "    conn.commit()\n"
      ],
      "metadata": {
        "id": "bSmmhubIV4pF"
      },
      "execution_count": null,
      "outputs": []
    },
    {
      "cell_type": "code",
      "source": [
        "cenz2()"
      ],
      "metadata": {
        "id": "Bs5Vg3XJdGWa"
      },
      "execution_count": null,
      "outputs": []
    },
    {
      "cell_type": "code",
      "source": [
        "def cenzn():\n",
        "  query = \"\"\"\n",
        "  SELECT text_n\n",
        "  FROM Nikulin\n",
        "  \"\"\"\n",
        "  df = pd.read_sql_query(query, con=conn)\n",
        "  c1 = list(df['text_n'].values)\n",
        "  c1_t = vectorizer.transform(c1)\n",
        "  y1 = classifier.predict(c1_t)\n",
        "  for i in range(len(y1)):\n",
        "    c.execute(\"UPDATE Nikulin SET pril_n = ? WHERE id_n = ?\", (int(y1[i]), i))\n",
        "    conn.commit()"
      ],
      "metadata": {
        "id": "XQgqN0ZHdT4d"
      },
      "execution_count": null,
      "outputs": []
    },
    {
      "cell_type": "code",
      "source": [
        "cenzn()"
      ],
      "metadata": {
        "id": "PwtykiO6dUaw"
      },
      "execution_count": null,
      "outputs": []
    },
    {
      "cell_type": "code",
      "source": [
        "import matplotlib\n",
        "import pandas as pd\n",
        "\n",
        "from flask import Flask\n",
        "from flask import render_template\n",
        "from flask import request\n",
        "import matplotlib.pyplot as plt\n",
        "\n"
      ],
      "metadata": {
        "id": "BlGEXidurmLP"
      },
      "execution_count": null,
      "outputs": []
    },
    {
      "cell_type": "code",
      "source": [
        " !pip install pymorphy2\n"
      ],
      "metadata": {
        "id": "_yMist_DtPJX"
      },
      "execution_count": null,
      "outputs": []
    },
    {
      "cell_type": "code",
      "source": [
        "from pymorphy2 import MorphAnalyzer\n",
        "morph = MorphAnalyzer()"
      ],
      "metadata": {
        "id": "IruHBl8attYU"
      },
      "execution_count": null,
      "outputs": []
    },
    {
      "cell_type": "code",
      "source": [
        "def search(word):\n",
        "  global final\n",
        "  # word = request.args['T2']\n",
        "  # apro = request.args['defaultCheck1']\n",
        "  apro = 0\n",
        "  word = morph.parse(word)[0]\n",
        "  lex = word.lexeme\n",
        "  l = []\n",
        "  for i in lex:\n",
        "    l.append(i.word)\n",
        "  if apro == 1:\n",
        "      query = \"\"\"\n",
        "      SELECT text_22\n",
        "      FROM Anek22\n",
        "      WHERE pril_22 = 0\n",
        "      \"\"\"\n",
        "      df0 = pd.read_sql_query(query, con=conn)\n",
        "      query1 = \"\"\"\n",
        "      SELECT text\n",
        "      FROM Anek11\n",
        "      WHERE pril = 0\n",
        "      \"\"\"\n",
        "      df1 = pd.read_sql_query(query1, con=conn)\n",
        "      query2 = \"\"\"\n",
        "      SELECT text_n\n",
        "      FROM Nikulin\n",
        "      WHERE pril_n = 0\n",
        "      \"\"\"\n",
        "      df2 = pd.read_sql_query(query2, con=conn)\n",
        "      data = [df0, df1, df2]\n",
        "      df = pd.concat(data)\n",
        "      final = []\n",
        "      r = [\"text_22\"]\n",
        "      for j in r:\n",
        "        for q in list(df[j]):\n",
        "          for k in l:\n",
        "            if (k+ \" \")  in str(q) and str(q) not in final:\n",
        "              final.append(str(q))\n",
        "  else:\n",
        "      query = \"\"\"\n",
        "      SELECT text_22\n",
        "      FROM Anek22\n",
        "      \"\"\"\n",
        "      df0 = pd.read_sql_query(query, con=conn)\n",
        "      query1 = \"\"\"\n",
        "      SELECT text\n",
        "      FROM Anek11\n",
        "      \"\"\"\n",
        "      df1 = pd.read_sql_query(query1, con=conn)\n",
        "      query2 = \"\"\"\n",
        "      SELECT text_n\n",
        "      FROM Nikulin\n",
        "      \"\"\"\n",
        "      df2 = pd.read_sql_query(query2, con=conn)\n",
        "      data = [df0, df1, df2]\n",
        "      df = pd.concat(data)\n",
        "      final = []\n",
        "      r = [\"text_22\"]\n",
        "      for j in r:\n",
        "        for q in list(df[j]):\n",
        "          for k in l:\n",
        "            if (k+ \" \")  in str(q) and str(q) not in final:\n",
        "              final.append(str(q))\n",
        "  return\n"
      ],
      "metadata": {
        "id": "zbNWZdlir5xz"
      },
      "execution_count": null,
      "outputs": []
    },
    {
      "cell_type": "code",
      "source": [],
      "metadata": {
        "id": "-6bux36n1prk"
      },
      "execution_count": null,
      "outputs": []
    },
    {
      "cell_type": "code",
      "source": [
        "search(\"отец\")"
      ],
      "metadata": {
        "id": "7IJ5dPTsuBvS"
      },
      "execution_count": null,
      "outputs": []
    },
    {
      "cell_type": "code",
      "source": [
        "print(final)"
      ],
      "metadata": {
        "colab": {
          "base_uri": "https://localhost:8080/"
        },
        "id": "ZFynLeivzh-F",
        "outputId": "85698f07-b493-406c-e968-62033147651b"
      },
      "execution_count": null,
      "outputs": [
        {
          "output_type": "stream",
          "name": "stdout",
          "text": [
            "['— Штирлиц, — сказал Мюллер, — вы, часом, не еврей?— Ну, да! Мать русская, отец русский, а я почему—то еврей, — обиделся Штирлиц и подумал: — Не сболтнул ли я чего лишнего?', 'Приехал Вовочка с отцом в лес. Сидят, жарят сосиски, разговаривают.— Папа, я хочу срать.— Не стесняйся! Мы в лесу — сри где хочешь и ничего тебе за это не будет!Через некоторое время Вовочка возвращается.— Ну что, где ты это сделал?— В твоей машине.', '— Вовочка, как случилось так, что Машенька забеременела?— А—а—а, ее отец виноват.— ???— Я только дал назад, как он вошел в комнату и ка—а—а—ак шлепнул меня по заднице...', 'Вовочка не выучил урок, учительница собирается ставить двойку. — Марья Ивановна, я не хочу вас пугать, но мне отец сказал: ”Еще одна двойка — и кто—то получит по голове!”', 'Марья Ивановна пригласила отца Вовочки:— Ваш сын назвал меня оху*вшей тварью и отказался выйти к доске!— Сынок, если эта оху*вшая тварь приглашает к доске, то надо идти!', 'Марья Ивановна возвращает Вовочке дневник и говорит:— Твой отец поседеет, когда увидит твой дневник.— Не поседеет.— Разве твои оценки его не волнуют?— Конечно, волнуют, но он лысый.', 'Мама Вовочки получает записку от его учительницы:\"...Вовочка очень способный ученик, но он слишкоммного думает о сексе и девочках..!\"Мама пишет:\"...Если найдёте решение — сообщите. У его отца точно такая же проблема!\"', 'Сосед застукал Вовочку у себя на яблоне.— Вовочка! Ты опять за своё? Вот я с твоим отцом поговорю!...Вовочка подымает голову вверх и говорит:— Пап, слезай! Тут с тобой дядя Коля поговорить хочет...', 'Мужик стоит в очереди в кассу в супермаркете. Вдруг видит, что из соседней очереди ему машет рукой обалденная блондинка. Высокая, фигуристая, в общем, мечта поэта. Мужик в упор не помнит, где же он познакомился с этой красоткой, и начинает лихорадочно вспоминать.Красотка подходит к нему, и мужик пытается выспросить у нее намеками, при каких обстоятельствах они встречались.— Я, конечно, могу ошибаться, но мне кажется, что вы являетесь отцом одного из моих детей, — отвечает она.Мужик очумевает и пытается сообразить, когда же в последний раз он был неверен своей жене. Наконец догадка мелькает у него в голове.— Вы... Вы та самая приглашенная стриптизерша на моем мальчишнике, которую я *** на бильярдном столе, в то время, как твоя подружкастегала меня плеткой, а потом засунула мне в задницу бутылку?— Нет, я всего лишь учительница математики вашего сына...', 'Школьник под руководством отца изучает политическую карту мира.— Это наша страна, — показывает отец.— Какая большая! — реагирует сын.Затем мальчик рассматривает Европу и спрашивает: — Пап, а что это за пятнышко? — Это Германия, — отвечает отец.— Пап, а Гитлер то видел эту карту, когда на нас захотел напасть?!']\n"
          ]
        }
      ]
    }
  ],
  "metadata": {
    "colab": {
      "provenance": []
    },
    "kernelspec": {
      "display_name": "Python 3",
      "name": "python3"
    },
    "language_info": {
      "name": "python"
    }
  },
  "nbformat": 4,
  "nbformat_minor": 0
}